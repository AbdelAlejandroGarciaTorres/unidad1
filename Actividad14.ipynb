{
  "nbformat": 4,
  "nbformat_minor": 0,
  "metadata": {
    "colab": {
      "provenance": [],
      "authorship_tag": "ABX9TyO7ET9nh3VPmbhjiDBmuv3f",
      "include_colab_link": true
    },
    "kernelspec": {
      "name": "python3",
      "display_name": "Python 3"
    },
    "language_info": {
      "name": "python"
    }
  },
  "cells": [
    {
      "cell_type": "markdown",
      "metadata": {
        "id": "view-in-github",
        "colab_type": "text"
      },
      "source": [
        "<a href=\"https://colab.research.google.com/github/AbdelAlejandroGarciaTorres/unidad1/blob/main/Actividad14.ipynb\" target=\"_parent\"><img src=\"https://colab.research.google.com/assets/colab-badge.svg\" alt=\"Open In Colab\"/></a>"
      ]
    },
    {
      "cell_type": "markdown",
      "source": [
        "Numpy indexacion de matrices\n",
        "------------------------------\n",
        "Acceder a elementos de una matriz\n",
        "------------------------------\n",
        "La indexacion de matrices es lo mismo que acceder a un elemento de una matriz. Puede acceder a un elemento de una matriz haciendo referencia a su numero de indices.\n",
        "Los indices en las matrices numpy comienzan en 0 lo que significa que el primer elemento tiene indice 0, el segundo tiene indice 1, el tercero tiene indice 2, etc.\n",
        "---------\n",
        "ejemplo\n",
        "-----\n",
        "Obtenga el primer elemento de la siguiente matriz\n",
        "-------------------------------------------"
      ],
      "metadata": {
        "id": "hsdgA1pYR_2H"
      }
    },
    {
      "cell_type": "code",
      "source": [
        "import numpy as np\n",
        "arreglo=np.array([1,2,3,4,5])\n",
        "print(arreglo[0])"
      ],
      "metadata": {
        "colab": {
          "base_uri": "https://localhost:8080/"
        },
        "id": "X4zfdcr5UoGK",
        "outputId": "354d0af4-707d-4be1-cebd-cf27d9ab7f41"
      },
      "execution_count": 1,
      "outputs": [
        {
          "output_type": "stream",
          "name": "stdout",
          "text": [
            "1\n"
          ]
        }
      ]
    },
    {
      "cell_type": "markdown",
      "source": [
        "De la siguiente lista: 6,7,8,9,10, Obtenga el tercer y cuarto elemento\n",
        "----------------"
      ],
      "metadata": {
        "id": "7TVsUKPkVLID"
      }
    },
    {
      "cell_type": "code",
      "source": [
        "import numpy as np\n",
        "arreglo=np.array([6,7,8,9,10])\n",
        "print(arreglo[2])\n",
        "print(arreglo[3])"
      ],
      "metadata": {
        "colab": {
          "base_uri": "https://localhost:8080/"
        },
        "id": "5fypRhsMVR_r",
        "outputId": "b2868f0c-d048-46f2-af89-bf75750e0107"
      },
      "execution_count": 2,
      "outputs": [
        {
          "output_type": "stream",
          "name": "stdout",
          "text": [
            "8\n",
            "9\n"
          ]
        }
      ]
    },
    {
      "cell_type": "markdown",
      "source": [
        "Acceder a Matrices 2D\n",
        "--------------\n",
        "Para acceder a elementos de matrices 2D podemos utilizar numeros enteros separados por \",\" que representan al numero de dimensiones y al indice del elemento piense en matrices 2D como una tabla con filas y columnas donde la dimension representa la fila y el indice representa la columna.\n",
        "--------------\n",
        "Ejemplo\n",
        "----------\n",
        "Realiza una matriz 2D con las siguientes listas\n",
        "-------------------\n",
        "lista 1 [1,2,3,4,5]\n",
        "-------------------\n",
        "lista 2 [6,7,8,9,10]\n",
        "--------------------"
      ],
      "metadata": {
        "id": "lT8hAnLcV_Xz"
      }
    },
    {
      "cell_type": "code",
      "source": [
        "import numpy as np\n",
        "arreglo=np.array([[1,2,3,4,5],[6,7,8,9,10]])\n",
        "print(arreglo[0,1])"
      ],
      "metadata": {
        "colab": {
          "base_uri": "https://localhost:8080/"
        },
        "id": "JhicdJAvXCta",
        "outputId": "63817095-fce2-4797-b035-2c69f1150849"
      },
      "execution_count": 5,
      "outputs": [
        {
          "output_type": "stream",
          "name": "stdout",
          "text": [
            "2\n"
          ]
        }
      ]
    }
  ]
}