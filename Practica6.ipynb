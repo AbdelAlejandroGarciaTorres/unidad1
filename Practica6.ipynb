{
  "nbformat": 4,
  "nbformat_minor": 0,
  "metadata": {
    "colab": {
      "provenance": [],
      "authorship_tag": "ABX9TyN2eD1dnNv2Cfml2DvfZs/I",
      "include_colab_link": true
    },
    "kernelspec": {
      "name": "python3",
      "display_name": "Python 3"
    },
    "language_info": {
      "name": "python"
    }
  },
  "cells": [
    {
      "cell_type": "markdown",
      "metadata": {
        "id": "view-in-github",
        "colab_type": "text"
      },
      "source": [
        "<a href=\"https://colab.research.google.com/github/AbdelAlejandroGarciaTorres/unidad1/blob/main/Practica6.ipynb\" target=\"_parent\"><img src=\"https://colab.research.google.com/assets/colab-badge.svg\" alt=\"Open In Colab\"/></a>"
      ]
    },
    {
      "cell_type": "markdown",
      "source": [
        "Abdel Alejandro Garcia Torres - 24 de Septiembre de 2025 - Practica 6 - Cortar Arreglos Numpy\n",
        "--------------------------------\n",
        "Slice en python significa tomar elementos de un indice determinado a otro determinado indice\n",
        "--------------------------------\n",
        "Pasamos Slice en lugar del indice de esta manera:[start:end]\n",
        "Sino pasamos el inicio se considera 0\n",
        "Sino pasamos el final, su longitud es considerada una matriz de una dimension\n",
        "--------------------------------\n",
        "Ejemplo:([1,2,3,4,5,6,7])\n",
        "Cortamos los elementos del indice 1 al indice 5\n",
        "--------------------------"
      ],
      "metadata": {
        "id": "NKfr5al2Cfj9"
      }
    },
    {
      "cell_type": "code",
      "source": [
        "import numpy as np\n",
        "arreglo=np.array([1,2,3,4,5,6,7])\n",
        "print(arreglo[1:5])"
      ],
      "metadata": {
        "colab": {
          "base_uri": "https://localhost:8080/"
        },
        "id": "XlC6NS8jKiZv",
        "outputId": "9668781b-e2f0-4e50-f71f-712c985e4bdb"
      },
      "execution_count": 1,
      "outputs": [
        {
          "output_type": "stream",
          "name": "stdout",
          "text": [
            "[2 3 4 5]\n"
          ]
        }
      ]
    },
    {
      "cell_type": "markdown",
      "source": [
        "Ejemplo 2:([1,2,3,4,5,6,7]) Cortar del indice 4 hasta el final de la matriz\n",
        "------------------------------------------\n"
      ],
      "metadata": {
        "id": "on6g5l7oLKTo"
      }
    },
    {
      "cell_type": "code",
      "source": [
        "import numpy as np\n",
        "arreglo=np.array([1,2,3,4,5,6,7])\n",
        "print(arreglo[4:])"
      ],
      "metadata": {
        "colab": {
          "base_uri": "https://localhost:8080/"
        },
        "id": "1tIeUmW4LmWl",
        "outputId": "08c00c6b-1ddb-47bf-c979-73cbd4fcd488"
      },
      "execution_count": 2,
      "outputs": [
        {
          "output_type": "stream",
          "name": "stdout",
          "text": [
            "[5 6 7]\n"
          ]
        }
      ]
    },
    {
      "cell_type": "markdown",
      "source": [
        "Ejemplo3:\n",
        "([1,2,3,4,5,6,7])\n",
        "Cortar elementos desde el principio hasta el indice 5"
      ],
      "metadata": {
        "id": "MHwexlg4MKA8"
      }
    },
    {
      "cell_type": "code",
      "source": [
        "import numpy as np\n",
        "arreglo=np.array([1,2,3,4,5,6,7])\n",
        "print(arreglo[:5])"
      ],
      "metadata": {
        "colab": {
          "base_uri": "https://localhost:8080/"
        },
        "id": "RRGKtFNDMTAE",
        "outputId": "2b8f4902-4b8d-4231-cfcc-5da1c5c3d5b9"
      },
      "execution_count": 3,
      "outputs": [
        {
          "output_type": "stream",
          "name": "stdout",
          "text": [
            "[1 2 3 4 5]\n"
          ]
        }
      ]
    },
    {
      "cell_type": "markdown",
      "source": [
        "Ejemplo 4:\n",
        "([1,2,3,4,5,6,7])\n",
        "Corte negativo. utilizamos el operador \"-\" para hacer referencia a un indice desde el final.\n",
        "-------------------\n",
        "Cortar del indice 3 desde el final al indice 1 desde el final"
      ],
      "metadata": {
        "id": "HX3wf1-hM3DD"
      }
    },
    {
      "cell_type": "code",
      "source": [
        "import numpy as np\n",
        "arreglo=np.array([1,2,3,4,5,6,7])\n",
        "print(arreglo[-3:-1])"
      ],
      "metadata": {
        "colab": {
          "base_uri": "https://localhost:8080/"
        },
        "id": "kZ5aRdSUNQCM",
        "outputId": "f4461b79-93aa-438c-8d12-be705fcce03f"
      },
      "execution_count": 6,
      "outputs": [
        {
          "output_type": "stream",
          "name": "stdout",
          "text": [
            "[5 6]\n"
          ]
        }
      ]
    }
  ]
}