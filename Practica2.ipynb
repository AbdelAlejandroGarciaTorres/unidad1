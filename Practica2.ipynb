{
  "nbformat": 4,
  "nbformat_minor": 0,
  "metadata": {
    "colab": {
      "provenance": [],
      "authorship_tag": "ABX9TyMtvmB+5T+MSC5wtfg1CCjM",
      "include_colab_link": true
    },
    "kernelspec": {
      "name": "python3",
      "display_name": "Python 3"
    },
    "language_info": {
      "name": "python"
    }
  },
  "cells": [
    {
      "cell_type": "markdown",
      "metadata": {
        "id": "view-in-github",
        "colab_type": "text"
      },
      "source": [
        "<a href=\"https://colab.research.google.com/github/AbdelAlejandroGarciaTorres/unidad1/blob/main/Practica2.ipynb\" target=\"_parent\"><img src=\"https://colab.research.google.com/assets/colab-badge.svg\" alt=\"Open In Colab\"/></a>"
      ]
    },
    {
      "cell_type": "markdown",
      "source": [
        "Practica 2-Numpy\n",
        "Abdel Alejandro Garcia Torres\n",
        "Fecha 09 de Septiembre de 2025\n",
        "-------------------------------\n",
        "Como verificar el numero de dimensiones.\n",
        "Numpy proporciona el atributo ndim que devuelva un numero entero que nos dice cuantas dimensiones tiene una matriz.\n",
        "-------------------------------\n",
        "ejemplo:comprueba de cuantas dimensiones son las siguientes matrices.\n",
        "-------------------------------\n"
      ],
      "metadata": {
        "id": "dPzCv2PZrO5v"
      }
    },
    {
      "cell_type": "code",
      "source": [
        "import numpy as np\n",
        "arregloA=np.array(42)\n",
        "arregloB=np.array([1,2,3,4,5])\n",
        "arregloC=np.array([[1,2,3],[4,5,6]])\n",
        "arregloD=np.array([[[1,2,3],[4,5,6],[1,2,3],[4,5,6]]])\n",
        "print(arregloA.ndim)\n",
        "print(arregloB.ndim)\n",
        "print(arregloC.ndim)\n",
        "print(arregloD.ndim)"
      ],
      "metadata": {
        "colab": {
          "base_uri": "https://localhost:8080/"
        },
        "id": "Ag5gD8d0sf0h",
        "outputId": "07e6ed1a-84c9-4fa2-8898-653363c7e128"
      },
      "execution_count": 1,
      "outputs": [
        {
          "output_type": "stream",
          "name": "stdout",
          "text": [
            "0\n",
            "1\n",
            "2\n",
            "3\n"
          ]
        }
      ]
    },
    {
      "cell_type": "markdown",
      "source": [
        "Matrices de dimensiones superiores\n",
        "Una matriz puede tener cualquier numero de dimensiones. Cuando se crea la matriz, puede definir el numero de dimensiones utilizando el argumento de ndmin.\n",
        "Ejemplo:Crea una matriz con 5 dimensiones y verifica que tenga las 5 dimensiones"
      ],
      "metadata": {
        "id": "c5hAat8Au0pG"
      }
    },
    {
      "cell_type": "code",
      "source": [
        "import numpy as np\n",
        "arreglo=np.array([1,2,3,4,5], ndmin=5)\n",
        "print(arreglo)\n",
        "print(\"Numero de dimensiones=\",arreglo.ndim)"
      ],
      "metadata": {
        "colab": {
          "base_uri": "https://localhost:8080/"
        },
        "id": "zgpSa8q_wnZd",
        "outputId": "6af2081b-8f23-47a7-c458-0cee5321545b"
      },
      "execution_count": 6,
      "outputs": [
        {
          "output_type": "stream",
          "name": "stdout",
          "text": [
            "[[[[[1 2 3 4 5]]]]]\n",
            "Numero de dimensiones= 5\n"
          ]
        }
      ]
    },
    {
      "cell_type": "code",
      "source": [
        "Ejercicio:\n",
        "Considerando la siguiente matriz\n",
        "arreglo=np.array([[1,2,3],[4,5,6]])\n",
        "¿Cuantas dimensiones tiene?\n",
        "respuesta=2"
      ],
      "metadata": {
        "id": "qocHFpZTyda8"
      },
      "execution_count": null,
      "outputs": []
    },
    {
      "cell_type": "markdown",
      "source": [
        "Numpy Indexacion de matrices\n",
        "Acceder a elementos de una matriz\n",
        "La indexacion de matrices es lo mismo que acceder aun elemetno de una matriz. Puede acceder a un elemento de la matriz haciendo referencia a su numero de indice.Los indices en las matrices Numpy comienzan en 0, lo que sifnidica que el primer elemento tiene el indice 0 y el segundo tiene el indicel, etc.\n",
        "Ejemplo: Obtenga el eprimer elemento de la siguiente matriz\n",
        "-----------------------"
      ],
      "metadata": {
        "id": "zwYU9wN10foJ"
      }
    },
    {
      "cell_type": "code",
      "source": [
        "import numpy as np\n",
        "arreglo=np.array([1,2,3,4])\n",
        "print(arreglo[0])"
      ],
      "metadata": {
        "colab": {
          "base_uri": "https://localhost:8080/"
        },
        "id": "QGqaDeEU0-wJ",
        "outputId": "ee574bd3-fff5-4f80-c591-ed16ff6d7e28"
      },
      "execution_count": 9,
      "outputs": [
        {
          "output_type": "stream",
          "name": "stdout",
          "text": [
            "1\n"
          ]
        }
      ]
    }
  ]
}