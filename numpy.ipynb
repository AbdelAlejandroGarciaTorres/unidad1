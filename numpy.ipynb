{
  "nbformat": 4,
  "nbformat_minor": 0,
  "metadata": {
    "colab": {
      "provenance": [],
      "authorship_tag": "ABX9TyPVuK6WUHy7a36kwL7EnSSD",
      "include_colab_link": true
    },
    "kernelspec": {
      "name": "python3",
      "display_name": "Python 3"
    },
    "language_info": {
      "name": "python"
    }
  },
  "cells": [
    {
      "cell_type": "markdown",
      "metadata": {
        "id": "view-in-github",
        "colab_type": "text"
      },
      "source": [
        "<a href=\"https://colab.research.google.com/github/AbdelAlejandroGarciaTorres/unidad1/blob/main/numpy.ipynb\" target=\"_parent\"><img src=\"https://colab.research.google.com/assets/colab-badge.svg\" alt=\"Open In Colab\"/></a>"
      ]
    },
    {
      "cell_type": "code",
      "execution_count": null,
      "metadata": {
        "id": "DgTMWiuWiX_9"
      },
      "outputs": [],
      "source": []
    },
    {
      "cell_type": "markdown",
      "source": [
        "Numpy es una libreria Python.\n",
        "Numpy se utiliza para trabajar con matrices/arreglos.\n",
        "Numpy es la abreviatura de \"Python numerico\".\n",
        "Tambien tiene funciones para trabajar en el dominio de algebra lineal, la transformada y las matrices.\n",
        "En Python tenemos listas que sirven como matrices, pero son lentas de procesar.\n",
        "Numpy tiene como objetivo proporcionar un objeto de matriz que sea 50 veces mas rapido que las listas tradicionales."
      ],
      "metadata": {
        "id": "wzeEVopCiyu5"
      }
    },
    {
      "cell_type": "code",
      "source": [
        "#Primero tenemos que importar la libreria\n",
        "import numpy\n",
        "arreglo=numpy.array([1,2,3,4,5])\n",
        "print(arreglo)"
      ],
      "metadata": {
        "colab": {
          "base_uri": "https://localhost:8080/"
        },
        "id": "bojR4u8dlS3U",
        "outputId": "316b0142-15f9-4327-8bb3-78db30b934a8"
      },
      "execution_count": 1,
      "outputs": [
        {
          "output_type": "stream",
          "name": "stdout",
          "text": [
            "[1 2 3 4 5]\n"
          ]
        }
      ]
    },
    {
      "cell_type": "markdown",
      "source": [
        "Numpy como np\n",
        "Numpy general mente se importa bajo el alias np.\n",
        "En python los alias son un nombre alternativo para referirse a la misma cosa."
      ],
      "metadata": {
        "id": "CTZWhfuUmMMw"
      }
    },
    {
      "cell_type": "code",
      "source": [
        "import numpy as np\n",
        "arreglo=np.array([6,7,8,9,10])\n",
        "print(arreglo)"
      ],
      "metadata": {
        "colab": {
          "base_uri": "https://localhost:8080/"
        },
        "id": "Os52jsr3mlpQ",
        "outputId": "b00d719c-adaa-411b-e978-9082d34e74e0"
      },
      "execution_count": 2,
      "outputs": [
        {
          "output_type": "stream",
          "name": "stdout",
          "text": [
            "[ 6  7  8  9 10]\n"
          ]
        }
      ]
    },
    {
      "cell_type": "markdown",
      "source": [
        "Comprobando la version de NUmpy\n",
        "La cadena de la version se almacena en el atributo __version__"
      ],
      "metadata": {
        "id": "YfuRzmv-nd9b"
      }
    },
    {
      "cell_type": "code",
      "source": [
        "import numpy as np\n",
        "print(np.__version__)"
      ],
      "metadata": {
        "colab": {
          "base_uri": "https://localhost:8080/"
        },
        "id": "gGWBwy_nn19a",
        "outputId": "87a37a18-00fd-449d-9f70-82fa518cf631"
      },
      "execution_count": 3,
      "outputs": [
        {
          "output_type": "stream",
          "name": "stdout",
          "text": [
            "2.0.2\n"
          ]
        }
      ]
    },
    {
      "cell_type": "markdown",
      "source": [
        "Numpy creando matrices.\n",
        "Crear un objeto ndarray de Numpy.\n",
        "Numpy se utiliza para trabajar con matrices.\n",
        "El objeto de matriz se llama ndarray.\n",
        "Podemoa crear un Numpy ndarry utilizando la funcion array()"
      ],
      "metadata": {
        "id": "xR2EAa_OoRyu"
      }
    },
    {
      "cell_type": "code",
      "source": [
        "import numpy as np\n",
        "arreglo=np.array([\"Raul\",\"Ana\",\"Kimberly\",\"Yazmin\"])\n",
        "print(arreglo)\n",
        "print(type(arreglo))"
      ],
      "metadata": {
        "colab": {
          "base_uri": "https://localhost:8080/"
        },
        "id": "U8SB0j1GpJZy",
        "outputId": "dcde1c2e-b951-47b9-b7eb-7c9d6a2c4e34"
      },
      "execution_count": 4,
      "outputs": [
        {
          "output_type": "stream",
          "name": "stdout",
          "text": [
            "['Raul' 'Ana' 'Kimberly' 'Yazmin']\n",
            "<class 'numpy.ndarray'>\n"
          ]
        }
      ]
    },
    {
      "cell_type": "markdown",
      "source": [
        "Dimensiones en matrices.\n",
        "Una dimension en matrices es un nivel de profundidad de matriz (matrices anidadas)\n",
        "Una matriz anidada contiene matrices como elementos\n",
        "Matrices 0-D, son elementos de una matriz cada valor de una matriz es una matriz 0-D. Ejemplo: Crea una matriz 0-D con un valor de 42"
      ],
      "metadata": {
        "id": "PDtsZzftqKwp"
      }
    },
    {
      "cell_type": "code",
      "source": [
        "import numpy as np\n",
        "arreglo=np.array(42)\n",
        "print(arreglo)"
      ],
      "metadata": {
        "colab": {
          "base_uri": "https://localhost:8080/"
        },
        "id": "59jWrakNrEuv",
        "outputId": "cfd57e5e-222d-4d14-d3f0-5dac55b80182"
      },
      "execution_count": 1,
      "outputs": [
        {
          "output_type": "stream",
          "name": "stdout",
          "text": [
            "42\n"
          ]
        }
      ]
    },
    {
      "cell_type": "markdown",
      "source": [
        "Matrices 1-D\n",
        "Una matriz que tiene matrices 0-D como elementos se denomina matriz unidimensional o 1-D.\n",
        "Estas son las matrices mas comunes y basicas\n",
        "Ekemplo:Crea una matriz de 1-D tenga los valores 1,2,3,4,5"
      ],
      "metadata": {
        "id": "_MKKeelOsb7l"
      }
    },
    {
      "cell_type": "code",
      "source": [
        "import numpy as np\n",
        "arreglo=np.array([1,2,3,4,5])\n",
        "print(arreglo)"
      ],
      "metadata": {
        "colab": {
          "base_uri": "https://localhost:8080/"
        },
        "id": "AeO_T5LOtOCR",
        "outputId": "bfa71c23-4a75-46da-eb51-4760d4a5248d"
      },
      "execution_count": 2,
      "outputs": [
        {
          "output_type": "stream",
          "name": "stdout",
          "text": [
            "[1 2 3 4 5]\n"
          ]
        }
      ]
    },
    {
      "cell_type": "markdown",
      "source": [
        "Matrices 2-D\n",
        "Una matriz que tiene matrices 1-D cini elementos se denomina natriz 2-D.\n",
        "A menudo se utilizan para representar matrices de segundo orden.\n",
        "Numpy tiene un submodulo completo dedicado a operaciones con trices llamado numpy.mat.\n",
        "Ejemplo:crea una matriz 2D que con tenga dos matrices con los valores 123 y 456"
      ],
      "metadata": {
        "id": "M6XpjeVAtwuw"
      }
    },
    {
      "cell_type": "code",
      "source": [
        "import numpy as np\n",
        "arreglo=np.array([[1,2,3],[4,5,6]])\n",
        "print(arreglo)"
      ],
      "metadata": {
        "colab": {
          "base_uri": "https://localhost:8080/"
        },
        "id": "Tk20CeJluqM6",
        "outputId": "f8ab0e3a-86aa-4abf-b43f-678e48c0a0ab"
      },
      "execution_count": 3,
      "outputs": [
        {
          "output_type": "stream",
          "name": "stdout",
          "text": [
            "[[1 2 3]\n",
            " [4 5 6]]\n"
          ]
        }
      ]
    },
    {
      "cell_type": "markdown",
      "source": [
        "Matrices 3-D\n",
        "Una matriz que tiene matrices 2D se denonima matriz 3D.\n",
        "Estas matrices se utilizan para representar de tercer orden,\n",
        "Ejemplo: Crea una matriz 3D con dos matrices bidimensionales, ambas conteniendo dos matrices con los valores 1,2,3 y 4,5,6."
      ],
      "metadata": {
        "id": "ek1R1nSGvRac"
      }
    },
    {
      "cell_type": "code",
      "source": [
        "import numpy as np\n",
        "arreglo=np.array([[[1,2,3],[4,5,6]],[[1,2,3]],[[4,5,6]]])\n",
        "print(arreglo)"
      ],
      "metadata": {
        "colab": {
          "base_uri": "https://localhost:8080/"
        },
        "id": "0X9BY3rKwKqt",
        "outputId": "053c0849-ec15-4ebc-b8f2-212360e4ab06"
      },
      "execution_count": 10,
      "outputs": [
        {
          "output_type": "stream",
          "name": "stdout",
          "text": [
            "[[[1 2 3]\n",
            "  [4 5 6]]\n",
            "\n",
            " [[1 2 3]\n",
            "  [4 5 6]]]\n"
          ]
        }
      ]
    }
  ]
}