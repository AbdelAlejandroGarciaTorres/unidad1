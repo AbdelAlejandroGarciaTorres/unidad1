{
  "nbformat": 4,
  "nbformat_minor": 0,
  "metadata": {
    "colab": {
      "provenance": [],
      "authorship_tag": "ABX9TyODhCJbqgl9pCh3Vo6BO7mx",
      "include_colab_link": true
    },
    "kernelspec": {
      "name": "python3",
      "display_name": "Python 3"
    },
    "language_info": {
      "name": "python"
    }
  },
  "cells": [
    {
      "cell_type": "markdown",
      "metadata": {
        "id": "view-in-github",
        "colab_type": "text"
      },
      "source": [
        "<a href=\"https://colab.research.google.com/github/AbdelAlejandroGarciaTorres/unidad1/blob/main/Ejemplo.ipynb\" target=\"_parent\"><img src=\"https://colab.research.google.com/assets/colab-badge.svg\" alt=\"Open In Colab\"/></a>"
      ]
    },
    {
      "cell_type": "code",
      "execution_count": null,
      "metadata": {
        "id": "4qr0ZxC9xICS"
      },
      "outputs": [],
      "source": []
    },
    {
      "cell_type": "markdown",
      "source": [
        "prueba de collab python"
      ],
      "metadata": {
        "id": "5BX00GE3xlz8"
      }
    },
    {
      "cell_type": "code",
      "source": [
        "print(\"hola mundo\")"
      ],
      "metadata": {
        "colab": {
          "base_uri": "https://localhost:8080/"
        },
        "id": "5oqC6msexxcT",
        "outputId": "721ac1b3-a5d5-4306-a5d1-73c44de5e497"
      },
      "execution_count": 1,
      "outputs": [
        {
          "output_type": "stream",
          "name": "stdout",
          "text": [
            "hola mundo\n"
          ]
        }
      ]
    },
    {
      "cell_type": "markdown",
      "source": [
        "variables\n"
      ],
      "metadata": {
        "id": "UVHF3hx9yTxD"
      }
    },
    {
      "cell_type": "code",
      "source": [
        "#variables en python\n",
        "nombre=\"Abdel_Alejandro\"\n",
        "paterno=\"Garcia\"\n",
        "materno=\"Torres\"\n",
        "edad=16\n",
        "estatura=1.75\n",
        "print(nombre,paterno,materno,edad,estatura)"
      ],
      "metadata": {
        "colab": {
          "base_uri": "https://localhost:8080/"
        },
        "id": "MHUcnHWEyVRb",
        "outputId": "e80c1eb3-0c9c-4d7b-8dc8-98e26e7a9abd"
      },
      "execution_count": 2,
      "outputs": [
        {
          "output_type": "stream",
          "name": "stdout",
          "text": [
            "Abdel_Alejandro Garcia Torres 16 1.75\n"
          ]
        }
      ]
    },
    {
      "cell_type": "markdown",
      "source": [
        "solicitar 2 numeros al usuario y sumarlo\n"
      ],
      "metadata": {
        "id": "tsbzaxbVzdtb"
      }
    },
    {
      "cell_type": "code",
      "source": [
        "numero1=int(input(\"Ingresa el primer numero=\"))\n",
        "numero2=int(input(\"Ingresa el segundo numero=\"))\n",
        "suma=numero1+numero2\n",
        "print(\"suma=\",suma)"
      ],
      "metadata": {
        "colab": {
          "base_uri": "https://localhost:8080/"
        },
        "id": "Buk3ta7PzlL7",
        "outputId": "3e651279-0acc-42f4-d03d-65ca393ece99"
      },
      "execution_count": 4,
      "outputs": [
        {
          "output_type": "stream",
          "name": "stdout",
          "text": [
            "Ingresa el primer numero=90\n",
            "Ingresa el segundo numero=75\n",
            "suma= 165\n"
          ]
        }
      ]
    }
  ]
}