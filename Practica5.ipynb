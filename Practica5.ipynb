{
  "nbformat": 4,
  "nbformat_minor": 0,
  "metadata": {
    "colab": {
      "provenance": [],
      "authorship_tag": "ABX9TyNsDBE9OeCLS0CmFVat2ajV",
      "include_colab_link": true
    },
    "kernelspec": {
      "name": "python3",
      "display_name": "Python 3"
    },
    "language_info": {
      "name": "python"
    }
  },
  "cells": [
    {
      "cell_type": "markdown",
      "metadata": {
        "id": "view-in-github",
        "colab_type": "text"
      },
      "source": [
        "<a href=\"https://colab.research.google.com/github/AbdelAlejandroGarciaTorres/unidad1/blob/main/Practica5.ipynb\" target=\"_parent\"><img src=\"https://colab.research.google.com/assets/colab-badge.svg\" alt=\"Open In Colab\"/></a>"
      ]
    },
    {
      "cell_type": "markdown",
      "source": [
        "Primer lista\n",
        "---------------"
      ],
      "metadata": {
        "id": "gp6rWejK6sAb"
      }
    },
    {
      "cell_type": "code",
      "execution_count": 4,
      "metadata": {
        "colab": {
          "base_uri": "https://localhost:8080/"
        },
        "id": "6CFvhZ5o2tGr",
        "outputId": "c73e4bec-b2b7-4cc7-c531-6782ecb252dd"
      },
      "outputs": [
        {
          "output_type": "stream",
          "name": "stdout",
          "text": [
            "la media es: 39.125\n"
          ]
        }
      ],
      "source": [
        "import statistics\n",
        "datos=[23,45,56,12,67,34,55,21]\n",
        "media=statistics.mean(datos)\n",
        "print(f\"la media es: {media}\")"
      ]
    },
    {
      "cell_type": "code",
      "execution_count": 6,
      "metadata": {
        "colab": {
          "base_uri": "https://localhost:8080/"
        },
        "outputId": "df349a88-1c43-4c19-8d63-6787a004b4d0",
        "id": "QqD92dZH3fJe"
      },
      "outputs": [
        {
          "output_type": "stream",
          "name": "stdout",
          "text": [
            "la mediana es: 39.5\n"
          ]
        }
      ],
      "source": [
        "import statistics\n",
        "datos=[23,45,56,12,67,34,55,21]\n",
        "mediana=statistics.median(datos)\n",
        "print(f\"la mediana es: {mediana}\")"
      ]
    },
    {
      "cell_type": "code",
      "execution_count": 11,
      "metadata": {
        "colab": {
          "base_uri": "https://localhost:8080/"
        },
        "outputId": "2f1924b9-bb26-4741-f216-87440d98c8fa",
        "id": "gywgfpst3sje"
      },
      "outputs": [
        {
          "output_type": "stream",
          "name": "stdout",
          "text": [
            "la moda es: 55\n"
          ]
        }
      ],
      "source": [
        "import statistics\n",
        "datos=[23,45,56,12,67,34,55,21,55]\n",
        "moda=statistics.mode(datos)\n",
        "print(f\"la moda es: {moda}\")"
      ]
    },
    {
      "cell_type": "markdown",
      "source": [
        "Segunda lista\n",
        "-----------------"
      ],
      "metadata": {
        "id": "4WkpUsJR64n3"
      }
    },
    {
      "cell_type": "code",
      "execution_count": 14,
      "metadata": {
        "colab": {
          "base_uri": "https://localhost:8080/"
        },
        "outputId": "c498a943-b7ca-4bc9-edf1-dd91274f162f",
        "id": "ORVZ3B1L6EAu"
      },
      "outputs": [
        {
          "output_type": "stream",
          "name": "stdout",
          "text": [
            "la media es: 27.142857142857142\n"
          ]
        }
      ],
      "source": [
        "import statistics\n",
        "datos=[10,20,30,40,20,50,20]\n",
        "media=statistics.mean(datos)\n",
        "print(f\"la media es: {media}\")"
      ]
    },
    {
      "cell_type": "code",
      "execution_count": 13,
      "metadata": {
        "colab": {
          "base_uri": "https://localhost:8080/"
        },
        "outputId": "d0ac7a0c-b1f8-496b-f3fa-979e17c545cf",
        "id": "JG8kodEq6EKg"
      },
      "outputs": [
        {
          "output_type": "stream",
          "name": "stdout",
          "text": [
            "la mediana es: 20\n"
          ]
        }
      ],
      "source": [
        "import statistics\n",
        "datos=[10,20,30,40,20,50,20]\n",
        "mediana=statistics.median(datos)\n",
        "print(f\"la mediana es: {mediana}\")"
      ]
    },
    {
      "cell_type": "code",
      "execution_count": 12,
      "metadata": {
        "colab": {
          "base_uri": "https://localhost:8080/"
        },
        "outputId": "81173b13-858c-464d-a6e3-c003d513a224",
        "id": "wgqy2H-66Ell"
      },
      "outputs": [
        {
          "output_type": "stream",
          "name": "stdout",
          "text": [
            "la moda es: 20\n"
          ]
        }
      ],
      "source": [
        "import statistics\n",
        "datos=[10,20,30,40,20,50,20]\n",
        "moda=statistics.mode(datos)\n",
        "print(f\"la moda es: {moda}\")"
      ]
    },
    {
      "cell_type": "markdown",
      "source": [
        "Tercer lista\n",
        "--------------"
      ],
      "metadata": {
        "id": "B21NDGMb68du"
      }
    },
    {
      "cell_type": "code",
      "execution_count": 15,
      "metadata": {
        "colab": {
          "base_uri": "https://localhost:8080/"
        },
        "outputId": "c7bfaf1a-7322-488f-c5ab-edb8d0b92761",
        "id": "Unb2Xj5Z6Exj"
      },
      "outputs": [
        {
          "output_type": "stream",
          "name": "stdout",
          "text": [
            "la media es: 30\n"
          ]
        }
      ],
      "source": [
        "import statistics\n",
        "datos=[10,20,30,40,50]\n",
        "media=statistics.mean(datos)\n",
        "print(f\"la media es: {media}\")"
      ]
    },
    {
      "cell_type": "code",
      "execution_count": 16,
      "metadata": {
        "colab": {
          "base_uri": "https://localhost:8080/"
        },
        "outputId": "2714630a-a011-4fe6-e30e-5fba97bf0186",
        "id": "SAcyzuJ56E4v"
      },
      "outputs": [
        {
          "output_type": "stream",
          "name": "stdout",
          "text": [
            "la mediana es: 30\n"
          ]
        }
      ],
      "source": [
        "import statistics\n",
        "datos=[10,20,30,40,50]\n",
        "mediana=statistics.median(datos)\n",
        "print(f\"la mediana es: {mediana}\")"
      ]
    },
    {
      "cell_type": "code",
      "execution_count": 17,
      "metadata": {
        "colab": {
          "base_uri": "https://localhost:8080/"
        },
        "outputId": "daa7890a-64fc-4921-dfac-2ad11939db24",
        "id": "pl2T0NxS6E__"
      },
      "outputs": [
        {
          "output_type": "stream",
          "name": "stdout",
          "text": [
            "la moda es: 10\n"
          ]
        }
      ],
      "source": [
        "import statistics\n",
        "datos=[10,20,30,40,50]\n",
        "moda=statistics.mode(datos)\n",
        "print(f\"la moda es: {moda}\")"
      ]
    }
  ]
}