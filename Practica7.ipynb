{
  "nbformat": 4,
  "nbformat_minor": 0,
  "metadata": {
    "colab": {
      "provenance": [],
      "authorship_tag": "ABX9TyOSUkzc+s3YFCW6tEZAEcOb",
      "include_colab_link": true
    },
    "kernelspec": {
      "name": "python3",
      "display_name": "Python 3"
    },
    "language_info": {
      "name": "python"
    }
  },
  "cells": [
    {
      "cell_type": "markdown",
      "metadata": {
        "id": "view-in-github",
        "colab_type": "text"
      },
      "source": [
        "<a href=\"https://colab.research.google.com/github/AbdelAlejandroGarciaTorres/unidad1/blob/main/Practica7.ipynb\" target=\"_parent\"><img src=\"https://colab.research.google.com/assets/colab-badge.svg\" alt=\"Open In Colab\"/></a>"
      ]
    },
    {
      "cell_type": "markdown",
      "source": [
        "Abdel Alejandro Garcia Torres - Practica7 _ 25 de septiembre 2025.\n",
        "------------------------\n",
        "Slicing Numpy\n",
        "------------------------\n",
        "Utilice STEP para determinar el paso del corte:\n",
        "Ejemplo:([1,2,3,4,5,6,7]) - devuelve todos los elementos del indice 1 al indice 5\n",
        "---------------------------"
      ],
      "metadata": {
        "id": "dqKnmcnOG5XB"
      }
    },
    {
      "cell_type": "code",
      "source": [
        "import numpy as np\n",
        "arreglo=np.array([1,2,3,4,5,6,7])\n",
        "print(arreglo[1:5:2])"
      ],
      "metadata": {
        "colab": {
          "base_uri": "https://localhost:8080/"
        },
        "id": "bIuJSM01IK4Y",
        "outputId": "dfbd636e-25b7-40d1-9e80-9463ab36df71"
      },
      "execution_count": 1,
      "outputs": [
        {
          "output_type": "stream",
          "name": "stdout",
          "text": [
            "[2 4]\n"
          ]
        }
      ]
    },
    {
      "cell_type": "markdown",
      "source": [
        "Ejemplo 2:([1,2,3,4,5,6,7]) Devuelve los elementos de la matriz\n",
        "---------------------\n"
      ],
      "metadata": {
        "id": "V3LOTAKcI8BG"
      }
    },
    {
      "cell_type": "code",
      "source": [
        "import numpy as np\n",
        "arreglo=np.array([1,2,3,4,5,6,7])\n",
        "print(arreglo[::2])"
      ],
      "metadata": {
        "colab": {
          "base_uri": "https://localhost:8080/"
        },
        "id": "YlD4IfuKJDLV",
        "outputId": "1abd687a-72f4-412e-9d98-7e14ba0ea226"
      },
      "execution_count": 2,
      "outputs": [
        {
          "output_type": "stream",
          "name": "stdout",
          "text": [
            "[1 3 5 7]\n"
          ]
        }
      ]
    },
    {
      "cell_type": "markdown",
      "source": [
        "Slice de matrices 2D\n",
        "-------------------------------\n",
        "Ejemplo:([[1,2,3,4,5]),[6,7,8,9,10]])\n",
        "Del segundo elemento, corte del indice 1 al indice 4\n",
        "--------------------------"
      ],
      "metadata": {
        "id": "a9mEGm9_KFJ1"
      }
    },
    {
      "cell_type": "code",
      "source": [
        "import numpy as np\n",
        "arreglo=np.array([[1,2,3,4,5],[6,7,8,9,10]])\n",
        "print(arreglo[1,1:4])"
      ],
      "metadata": {
        "colab": {
          "base_uri": "https://localhost:8080/"
        },
        "id": "IUHd1b9BKdQl",
        "outputId": "e5cbc701-389a-4db0-bb31-419ca284a68c"
      },
      "execution_count": 3,
      "outputs": [
        {
          "output_type": "stream",
          "name": "stdout",
          "text": [
            "[7 8 9]\n"
          ]
        }
      ]
    },
    {
      "cell_type": "markdown",
      "source": [
        "Ejemplo 4: ([[1,2,3,4,5],[6,7,8,9,10]])\n",
        "de ambos elementos, devuelve el indice 2\n",
        "---------------------------\n"
      ],
      "metadata": {
        "id": "oRKrCnlANR6l"
      }
    },
    {
      "cell_type": "code",
      "source": [
        "import numpy as np\n",
        "arreglo=np.array([[1,2,3,4,5],[6,7,8,9,10]])\n",
        "print(arreglo[0:2,2])"
      ],
      "metadata": {
        "colab": {
          "base_uri": "https://localhost:8080/"
        },
        "id": "jdaHyWtFNfZj",
        "outputId": "52e3ae38-c275-473b-f455-8bb466e7cde2"
      },
      "execution_count": 4,
      "outputs": [
        {
          "output_type": "stream",
          "name": "stdout",
          "text": [
            "[3 8]\n"
          ]
        }
      ]
    },
    {
      "cell_type": "markdown",
      "source": [
        "Ejemplo 5:([[1,2,3,4,5],[6,7,8,9,10]])\n",
        "De ambos elementos, corta el indice 1 al indice 4.\n",
        "---------------------------------"
      ],
      "metadata": {
        "id": "2tQ90zx-OErz"
      }
    },
    {
      "cell_type": "code",
      "source": [
        "import numpy as np\n",
        "arreglo=np.array([[1,2,3,4,5],[6,7,8,9,10]])\n",
        "print(arreglo[:,1:4])"
      ],
      "metadata": {
        "colab": {
          "base_uri": "https://localhost:8080/"
        },
        "outputId": "34c657d8-3ecd-4a60-cf52-fc73df425c73",
        "id": "7pUhJQb4OsGJ"
      },
      "execution_count": 6,
      "outputs": [
        {
          "output_type": "stream",
          "name": "stdout",
          "text": [
            "[[2 3 4]\n",
            " [7 8 9]]\n"
          ]
        }
      ]
    },
    {
      "cell_type": "markdown",
      "source": [
        "Ejercicio 1 - Autonomo\n",
        "Del siguiente arreglo, ¿Cual es el resultado?\n",
        "([1,2,3,4,5,6,7])\n",
        "Corta del 1er elemento al 6to elemento con\n",
        "paso 2"
      ],
      "metadata": {
        "id": "RMl9lXVCPOeE"
      }
    },
    {
      "cell_type": "code",
      "source": [
        "import numpy as np\n",
        "arreglo=np.array([1,2,3,4,5,6,7])\n",
        "print(arreglo[0:6:2])"
      ],
      "metadata": {
        "colab": {
          "base_uri": "https://localhost:8080/"
        },
        "outputId": "cc723126-bda1-498a-e26b-82cea1a1bc3b",
        "id": "BD1zyrGKP2Dc"
      },
      "execution_count": 9,
      "outputs": [
        {
          "output_type": "stream",
          "name": "stdout",
          "text": [
            "[1 3 5]\n"
          ]
        }
      ]
    }
  ]
}